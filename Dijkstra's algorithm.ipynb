{
 "cells": [
  {
   "cell_type": "markdown",
   "metadata": {},
   "source": [
    "# Dijkstra's algorithm"
   ]
  },
  {
   "cell_type": "code",
   "execution_count": 1,
   "metadata": {
    "collapsed": true
   },
   "outputs": [],
   "source": [
    "def dijkstra_search(grid,init,goal):\n",
    "    closed = [[0 for row in range(len(grid[0]))] for col in range(len(grid))]\n",
    "    closed[init[0]][init[1]] = 1\n",
    "    \n",
    "    path = []\n",
    "    visiting = []\n",
    "    visiting.append(init)\n",
    "    \n",
    "    distances = [[len(grid[0]) * len(grid) for row in range(len(grid[0]))] for col in range(len(grid))]\n",
    "    distances[init[0]][init[1]] = 0\n",
    "    parent = [[[0,0] for row in range(len(grid[0]))] for col in range(len(grid))]\n",
    "    \n",
    "    goal_distance = 0\n",
    "    reachGoal = 0\n",
    "    delta = [[-1, 0], # go up\n",
    "             [ 0,-1], # go left\n",
    "             [ 1, 0], # go down\n",
    "             [ 0, 1]] # go right\n",
    "    \n",
    "    while len(visiting) > 0:\n",
    "       \n",
    "        # find the node with the smallest distance\n",
    "        closest_node = visiting[0]\n",
    "        mindistance = distances[closest_node[0]][closest_node[1]]\n",
    "        for i in range(len(visiting)):\n",
    "            current_node = visiting[i]\n",
    "            if mindistance > distances[current_node[0]][current_node[1]]:\n",
    "                closest_node = current_node\n",
    "                mindistance = distances[current_node[0]][current_node[1]]\n",
    "        \n",
    "        # loop through each node that is adjacent to the current node\n",
    "        for j in range(len(delta)):\n",
    "            x = closest_node[0] + delta[j][0]\n",
    "            y = closest_node[1] + delta[j][1]\n",
    "            if x == goal[0] and y == goal[1]:\n",
    "                goal_distance = distances[closest_node[0]][closest_node[1]] + 1\n",
    "                distances[goal[0]][goal[1]] = goal_distance\n",
    "                parent[x][y] = closest_node\n",
    "                reachGoal = 1\n",
    "                break\n",
    "            if x >= 0 and x < len(grid) and y >= 0 and y < len(grid[0]) and closed[x][y] == 0 and grid[x][y] == 0:\n",
    "                if distances[x][y] > distances[closest_node[0]][closest_node[1]] + 1:\n",
    "                    distances[x][y] = distances[closest_node[0]][closest_node[1]] + 1\n",
    "                    parent[x][y] = closest_node\n",
    "                    visiting.append([x,y])\n",
    "        closed[closest_node[0]][closest_node[1]] = 1\n",
    "        visiting.remove(closest_node)\n",
    "        # if the goal is reached, clear the visiting list to stop the loop\n",
    "        if reachGoal:\n",
    "            for i in range(len(visiting)):\n",
    "                del visiting[i]       \n",
    "\n",
    "    # Reconstruct the path\n",
    "    if reachGoal:\n",
    "        current = goal\n",
    "        while parent[current[0]][current[1]] != init:\n",
    "            path.append(current)\n",
    "            grid[current[0]][current[1]] = 2  # Use 2 to represent the path on the grid\n",
    "            current = parent[current[0]][current[1]]\n",
    "        path.append(current)\n",
    "        grid[current[0]][current[1]] = 2\n",
    "        path.append(init)\n",
    "        grid[init[0]][init[1]] = 2\n",
    "        path.reverse()\n",
    "    else:\n",
    "        print \"Path not found\"\n",
    "    \n",
    "    return path, grid"
   ]
  },
  {
   "cell_type": "code",
   "execution_count": 2,
   "metadata": {
    "collapsed": false
   },
   "outputs": [
    {
     "name": "stdout",
     "output_type": "stream",
     "text": [
      "Path not found\n",
      "distance:  -1\n",
      "Path:  []\n",
      "[0, 0, 1, 0, 0, 0]\n",
      "[0, 0, 1, 1, 1, 0]\n",
      "[0, 0, 0, 0, 1, 0]\n",
      "[0, 0, 1, 1, 1, 0]\n",
      "[0, 0, 0, 0, 1, 0]\n"
     ]
    }
   ],
   "source": [
    "# Grid format:\n",
    "#   0 = Navigable space\n",
    "#   1 = Occupied space\n",
    "\n",
    "# Test1\n",
    "grid = [[0, 0, 1, 0, 0, 0],   \n",
    "        [0, 0, 1, 1, 1, 0],\n",
    "        [0, 0, 0, 0, 1, 0],\n",
    "        [0, 0, 1, 1, 1, 0],\n",
    "        [0, 0, 0, 0, 1, 0]]\n",
    "init = [0, 0]\n",
    "goal = [len(grid)-1, len(grid[0])-1]\n",
    "path,grid_with_path = dijkstra_search(grid,init,goal)\n",
    "print \"distance: \",len(path)-1\n",
    "print \"Path: \",path\n",
    "for i in range(len(grid_with_path)):\n",
    "    print grid_with_path[i]"
   ]
  },
  {
   "cell_type": "code",
   "execution_count": 3,
   "metadata": {
    "collapsed": false
   },
   "outputs": [
    {
     "name": "stdout",
     "output_type": "stream",
     "text": [
      "distance:  13\n",
      "Path:  [[0, 0], [1, 0], [2, 0], [3, 0], [3, 1], [3, 2], [2, 2], [2, 3], [1, 3], [1, 4], [1, 5], [2, 5], [3, 5], [3, 4]]\n",
      "[2, 0, 1, 0, 1, 0]\n",
      "[2, 0, 1, 2, 2, 2]\n",
      "[2, 1, 2, 2, 1, 2]\n",
      "[2, 2, 2, 1, 2, 2]\n",
      "[0, 0, 0, 0, 1, 0]\n"
     ]
    }
   ],
   "source": [
    "# Test2\n",
    "grid = [[0, 0, 1, 0, 1, 0],   \n",
    "        [0, 0, 1, 0, 0, 0],\n",
    "        [0, 1, 0, 0, 1, 0],\n",
    "        [0, 0, 0, 1, 0, 0],\n",
    "        [0, 0, 0, 0, 1, 0]]\n",
    "init = [0, 0]\n",
    "goal = [3, 4]\n",
    "path,grid_with_path = dijkstra_search(grid,init,goal)\n",
    "print \"distance: \",len(path)-1\n",
    "print \"Path: \",path\n",
    "for i in range(len(grid_with_path)):\n",
    "    print grid_with_path[i]"
   ]
  },
  {
   "cell_type": "code",
   "execution_count": 4,
   "metadata": {
    "collapsed": false
   },
   "outputs": [
    {
     "name": "stdout",
     "output_type": "stream",
     "text": [
      "distance:  10\n",
      "Path:  [[2, 1], [2, 2], [2, 3], [1, 3], [0, 3], [0, 4], [0, 5], [1, 5], [2, 5], [3, 5], [4, 5]]\n",
      "[0, 0, 1, 2, 2, 2]\n",
      "[0, 0, 1, 2, 1, 2]\n",
      "[0, 2, 2, 2, 1, 2]\n",
      "[0, 0, 1, 1, 1, 2]\n",
      "[0, 0, 0, 0, 1, 2]\n"
     ]
    }
   ],
   "source": [
    "#Test3\n",
    "grid = [[0, 0, 1, 0, 0, 0],   \n",
    "        [0, 0, 1, 0, 1, 0],\n",
    "        [0, 0, 0, 0, 1, 0],\n",
    "        [0, 0, 1, 1, 1, 0],\n",
    "        [0, 0, 0, 0, 1, 0]]\n",
    "init = [2, 1]\n",
    "goal = [len(grid)-1, len(grid[0])-1]\n",
    "path,grid_with_path = dijkstra_search(grid,init,goal)\n",
    "print \"distance: \",len(path)-1\n",
    "print \"Path: \",path\n",
    "for i in range(len(grid_with_path)):\n",
    "    print grid_with_path[i]"
   ]
  },
  {
   "cell_type": "code",
   "execution_count": null,
   "metadata": {
    "collapsed": true
   },
   "outputs": [],
   "source": []
  }
 ],
 "metadata": {
  "kernelspec": {
   "display_name": "Python 2",
   "language": "python",
   "name": "python2"
  },
  "language_info": {
   "codemirror_mode": {
    "name": "ipython",
    "version": 2
   },
   "file_extension": ".py",
   "mimetype": "text/x-python",
   "name": "python",
   "nbconvert_exporter": "python",
   "pygments_lexer": "ipython2",
   "version": "2.7.11"
  }
 },
 "nbformat": 4,
 "nbformat_minor": 0
}
